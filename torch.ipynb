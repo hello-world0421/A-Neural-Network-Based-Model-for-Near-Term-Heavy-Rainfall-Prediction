{
 "cells": [
  {
   "cell_type": "code",
   "execution_count": 1,
   "metadata": {},
   "outputs": [
    {
     "name": "stdout",
     "output_type": "stream",
     "text": [
      "2.5.0+cpu\n",
      "None\n",
      "False\n"
     ]
    }
   ],
   "source": [
    "import torch\n",
    "import numpy as np\n",
    " \n",
    "print(torch.__version__) # pytorch版本\n",
    "print(torch.version.cuda) # cuda版本\n",
    "print(torch.cuda.is_available()) # 查看cuda是否可用"
   ]
  },
  {
   "cell_type": "code",
   "execution_count": 2,
   "metadata": {},
   "outputs": [
    {
     "data": {
      "text/plain": [
       "tensor([[0., 0., 0.],\n",
       "        [0., 0., 0.],\n",
       "        [0., 0., 0.]])"
      ]
     },
     "execution_count": 2,
     "metadata": {},
     "output_type": "execute_result"
    }
   ],
   "source": [
    "torch.zeros(3, 3)"
   ]
  },
  {
   "cell_type": "code",
   "execution_count": 3,
   "metadata": {},
   "outputs": [
    {
     "data": {
      "text/plain": [
       "tensor([[1., 1., 1.],\n",
       "        [1., 1., 1.],\n",
       "        [1., 1., 1.]])"
      ]
     },
     "execution_count": 3,
     "metadata": {},
     "output_type": "execute_result"
    }
   ],
   "source": [
    "torch.ones(3, 3)"
   ]
  },
  {
   "cell_type": "code",
   "execution_count": 4,
   "metadata": {},
   "outputs": [
    {
     "data": {
      "text/plain": [
       "tensor([[1., 0., 0.],\n",
       "        [0., 1., 0.],\n",
       "        [0., 0., 1.]])"
      ]
     },
     "execution_count": 4,
     "metadata": {},
     "output_type": "execute_result"
    }
   ],
   "source": [
    "torch.eye(3, 3)"
   ]
  },
  {
   "cell_type": "code",
   "execution_count": 5,
   "metadata": {},
   "outputs": [
    {
     "data": {
      "text/plain": [
       "tensor([1., 3.])"
      ]
     },
     "execution_count": 5,
     "metadata": {},
     "output_type": "execute_result"
    }
   ],
   "source": [
    "torch.Tensor([1, 3])"
   ]
  },
  {
   "cell_type": "code",
   "execution_count": 6,
   "metadata": {},
   "outputs": [
    {
     "data": {
      "text/plain": [
       "tensor([1, 2, 3], dtype=torch.int32)"
      ]
     },
     "execution_count": 6,
     "metadata": {},
     "output_type": "execute_result"
    }
   ],
   "source": [
    "torch.IntTensor([1,2,3])"
   ]
  },
  {
   "cell_type": "code",
   "execution_count": 7,
   "metadata": {},
   "outputs": [
    {
     "data": {
      "text/plain": [
       "tensor([[ 1.1019,  0.5475, -0.0287],\n",
       "        [-0.4717,  0.3867, -0.1935],\n",
       "        [ 0.2142, -1.1768, -0.3112]])"
      ]
     },
     "execution_count": 7,
     "metadata": {},
     "output_type": "execute_result"
    }
   ],
   "source": [
    "torch.randn(3, 3)"
   ]
  },
  {
   "cell_type": "code",
   "execution_count": 8,
   "metadata": {},
   "outputs": [
    {
     "data": {
      "text/plain": [
       "tensor([2, 1, 7, 3, 9, 4, 0, 5, 8, 6])"
      ]
     },
     "execution_count": 8,
     "metadata": {},
     "output_type": "execute_result"
    }
   ],
   "source": [
    "torch.randperm(10)"
   ]
  },
  {
   "cell_type": "code",
   "execution_count": 9,
   "metadata": {},
   "outputs": [
    {
     "data": {
      "text/plain": [
       "tensor([[0., 0., 0.],\n",
       "        [0., 0., 0.]])"
      ]
     },
     "execution_count": 9,
     "metadata": {},
     "output_type": "execute_result"
    }
   ],
   "source": [
    "torch.Tensor(2, 3)"
   ]
  },
  {
   "cell_type": "code",
   "execution_count": 10,
   "metadata": {},
   "outputs": [
    {
     "data": {
      "text/plain": [
       "tensor([2., 3.])"
      ]
     },
     "execution_count": 10,
     "metadata": {},
     "output_type": "execute_result"
    }
   ],
   "source": [
    "torch.Tensor([2, 3])"
   ]
  },
  {
   "cell_type": "code",
   "execution_count": 11,
   "metadata": {},
   "outputs": [
    {
     "data": {
      "text/plain": [
       "tensor([[-0.3922, -1.2919, -0.2870],\n",
       "        [-0.2046, -0.2606,  0.5020]])"
      ]
     },
     "execution_count": 11,
     "metadata": {},
     "output_type": "execute_result"
    }
   ],
   "source": [
    "torch.randn(2, 3)"
   ]
  },
  {
   "cell_type": "code",
   "execution_count": 12,
   "metadata": {},
   "outputs": [
    {
     "data": {
      "text/plain": [
       "tensor([[ 0,  1,  2,  3,  4],\n",
       "        [ 5,  6,  7,  8,  9],\n",
       "        [10, 11, 12, 13, 14]], dtype=torch.int32)"
      ]
     },
     "execution_count": 12,
     "metadata": {},
     "output_type": "execute_result"
    }
   ],
   "source": [
    "torch.tensor(np.arange(15).reshape(3, 5))"
   ]
  },
  {
   "cell_type": "code",
   "execution_count": 13,
   "metadata": {},
   "outputs": [
    {
     "data": {
      "text/plain": [
       "tensor(-2.)"
      ]
     },
     "execution_count": 13,
     "metadata": {},
     "output_type": "execute_result"
    }
   ],
   "source": [
    "# 标量Tensor求导\n",
    "# 求 f(x) = a*x**2 + b*x + c 的导数\n",
    "x = torch.tensor(-2.0, requires_grad=True)\n",
    "a = torch.tensor(1.0)\n",
    "b = torch.tensor(2.0)\n",
    "c = torch.tensor(3.0)\n",
    "y = a * torch.pow(x,2) + b * x + c\n",
    "y.backward() # backward求得的梯度会存储在自变量x的grad属性中\n",
    "dy_dx = x.grad\n",
    "dy_dx"
   ]
  },
  {
   "cell_type": "code",
   "execution_count": 14,
   "metadata": {},
   "outputs": [
    {
     "data": {
      "text/plain": [
       "tensor([[-2.,  0.],\n",
       "        [ 2.,  4.]])"
      ]
     },
     "execution_count": 14,
     "metadata": {},
     "output_type": "execute_result"
    }
   ],
   "source": [
    "# 非标量Tensor求导\n",
    "# 求 f(x) = a*x**2 + b*x + c 的导数\n",
    "x = torch.tensor([[-2.0,-1.0],[0.0,1.0]], requires_grad=True)\n",
    "a = torch.tensor(1.0)\n",
    "b = torch.tensor(2.0)\n",
    "c = torch.tensor(3.0)\n",
    "gradient=torch.tensor([[1.0,1.0],[1.0,1.0]])\n",
    "y = a * torch.pow(x,2) + b * x + c\n",
    "y.backward(gradient=gradient) \n",
    "dy_dx = x.grad\n",
    "dy_dx"
   ]
  },
  {
   "cell_type": "code",
   "execution_count": 15,
   "metadata": {},
   "outputs": [
    {
     "data": {
      "text/plain": [
       "tensor([[-2.,  0.],\n",
       "        [ 2.,  4.]])"
      ]
     },
     "execution_count": 15,
     "metadata": {},
     "output_type": "execute_result"
    }
   ],
   "source": [
    "# 使用标量求导方式解决非标量求导\n",
    "# 求 f(x) = a*x**2 + b*x + c 的导数\n",
    "x = torch.tensor([[-2.0,-1.0],[0.0,1.0]], requires_grad=True)\n",
    "a = torch.tensor(1.0)\n",
    "b = torch.tensor(2.0)\n",
    "c = torch.tensor(3.0)\n",
    "gradient=torch.tensor([[1.0,1.0],[1.0,1.0]])\n",
    "y = a*torch.pow(x,2)+b*x+c\n",
    "z=torch.sum(y*gradient)\n",
    "z.backward()\n",
    "dy_dx=x.grad\n",
    "dy_dx"
   ]
  },
  {
   "cell_type": "code",
   "execution_count": 16,
   "metadata": {},
   "outputs": [
    {
     "name": "stdout",
     "output_type": "stream",
     "text": [
      "tensor(6.) tensor(12.) tensor(24.)\n",
      "tensor(2.) tensor(1.)\n",
      "tensor(3.) tensor(2.)\n"
     ]
    }
   ],
   "source": [
    " \n",
    "import torch\n",
    " \n",
    "#单个自变量求导\n",
    "# 求 f(x) = a*x**4 + b*x + c 的导数\n",
    "x = torch.tensor(1.0, requires_grad=True)\n",
    "a = torch.tensor(1.0)\n",
    "b = torch.tensor(2.0)\n",
    "c = torch.tensor(3.0)\n",
    "y = a * torch.pow(x, 4) + b * x + c\n",
    "#create_graph设置为True,允许创建更高阶级的导数\n",
    "#求一阶导\n",
    "dy_dx = torch.autograd.grad(y, x, create_graph=True)[0]\n",
    "#求二阶导\n",
    "dy2_dx2 = torch.autograd.grad(dy_dx, x, create_graph=True)[0]\n",
    "#求三阶导\n",
    "dy3_dx3 = torch.autograd.grad(dy2_dx2, x)[0]\n",
    "print(dy_dx.data, dy2_dx2.data, dy3_dx3)\n",
    " \n",
    " \n",
    "# 多个自变量求偏导\n",
    "x1 = torch.tensor(1.0, requires_grad=True)\n",
    "x2 = torch.tensor(2.0, requires_grad=True)\n",
    "y1 = x1 * x2\n",
    "y2 = x1 + x2\n",
    "#只有一个因变量,正常求偏导\n",
    "dy1_dx1, dy1_dx2 = torch.autograd.grad(outputs=y1, inputs=[x1, x2], retain_graph=True)\n",
    "print(dy1_dx1, dy1_dx2)\n",
    "# 若有多个因变量，则对于每个因变量,会将求偏导的结果加起来\n",
    "dy1_dx, dy2_dx = torch.autograd.grad(outputs=[y1, y2], inputs=[x1, x2])\n",
    "dy1_dx, dy2_dx\n",
    "print(dy1_dx, dy2_dx)"
   ]
  },
  {
   "cell_type": "code",
   "execution_count": 17,
   "metadata": {},
   "outputs": [
    {
     "name": "stdout",
     "output_type": "stream",
     "text": [
      "Epoch[1/100],loss:0.779026\n",
      "Epoch[2/100],loss:0.755264\n",
      "Epoch[3/100],loss:0.736668\n",
      "Epoch[4/100],loss:0.721748\n",
      "Epoch[5/100],loss:0.709041\n",
      "Epoch[6/100],loss:0.698459\n",
      "Epoch[7/100],loss:0.689645\n",
      "Epoch[8/100],loss:0.682855\n",
      "Epoch[9/100],loss:0.676658\n",
      "Epoch[10/100],loss:0.671181\n",
      "Epoch[11/100],loss:0.666561\n",
      "Epoch[12/100],loss:0.664231\n",
      "Epoch[13/100],loss:0.660694\n",
      "Epoch[14/100],loss:0.656540\n",
      "Epoch[15/100],loss:0.655596\n",
      "Epoch[16/100],loss:0.652369\n",
      "Epoch[17/100],loss:0.651291\n",
      "Epoch[18/100],loss:0.651681\n",
      "Epoch[19/100],loss:0.649549\n",
      "Epoch[20/100],loss:0.648062\n",
      "Epoch[21/100],loss:0.646055\n",
      "Epoch[22/100],loss:0.650610\n",
      "Epoch[23/100],loss:0.647600\n",
      "Epoch[24/100],loss:0.648593\n",
      "Epoch[25/100],loss:0.646217\n",
      "Epoch[26/100],loss:0.645926\n",
      "Epoch[27/100],loss:0.646362\n",
      "Epoch[28/100],loss:0.647670\n",
      "Epoch[29/100],loss:0.647545\n",
      "Epoch[30/100],loss:0.648197\n",
      "Epoch[31/100],loss:0.645838\n",
      "Epoch[32/100],loss:0.645716\n",
      "Epoch[33/100],loss:0.644079\n",
      "Epoch[34/100],loss:0.645587\n",
      "Epoch[35/100],loss:0.644703\n",
      "Epoch[36/100],loss:0.647075\n",
      "Epoch[37/100],loss:0.646235\n",
      "Epoch[38/100],loss:0.646224\n",
      "Epoch[39/100],loss:0.647816\n",
      "Epoch[40/100],loss:0.646194\n",
      "Epoch[41/100],loss:0.646970\n",
      "Epoch[42/100],loss:0.643678\n",
      "Epoch[43/100],loss:0.646945\n",
      "Epoch[44/100],loss:0.647011\n",
      "Epoch[45/100],loss:0.649475\n",
      "Epoch[46/100],loss:0.642805\n",
      "Epoch[47/100],loss:0.645308\n",
      "Epoch[48/100],loss:0.645271\n",
      "Epoch[49/100],loss:0.642730\n",
      "Epoch[50/100],loss:0.647783\n",
      "Epoch[51/100],loss:0.641892\n",
      "Epoch[52/100],loss:0.646111\n",
      "Epoch[53/100],loss:0.645226\n",
      "Epoch[54/100],loss:0.646077\n",
      "Epoch[55/100],loss:0.643535\n",
      "Epoch[56/100],loss:0.643553\n",
      "Epoch[57/100],loss:0.646916\n",
      "Epoch[58/100],loss:0.644373\n",
      "Epoch[59/100],loss:0.650321\n",
      "Epoch[60/100],loss:0.642670\n",
      "Epoch[61/100],loss:0.647768\n",
      "Epoch[62/100],loss:0.646945\n",
      "Epoch[63/100],loss:0.645218\n",
      "Epoch[64/100],loss:0.645272\n",
      "Epoch[65/100],loss:0.644338\n",
      "Epoch[66/100],loss:0.645223\n",
      "Epoch[67/100],loss:0.643518\n",
      "Epoch[68/100],loss:0.647775\n",
      "Epoch[69/100],loss:0.642645\n",
      "Epoch[70/100],loss:0.644368\n",
      "Epoch[71/100],loss:0.644348\n",
      "Epoch[72/100],loss:0.646962\n",
      "Epoch[73/100],loss:0.647775\n",
      "Epoch[74/100],loss:0.642627\n",
      "Epoch[75/100],loss:0.641794\n",
      "Epoch[76/100],loss:0.646935\n",
      "Epoch[77/100],loss:0.646060\n",
      "Epoch[78/100],loss:0.645221\n",
      "Epoch[79/100],loss:0.646083\n",
      "Epoch[80/100],loss:0.646097\n",
      "Epoch[81/100],loss:0.643490\n",
      "Epoch[82/100],loss:0.644354\n",
      "Epoch[83/100],loss:0.646108\n",
      "Epoch[84/100],loss:0.646941\n",
      "Epoch[85/100],loss:0.646970\n",
      "Epoch[86/100],loss:0.645197\n",
      "Epoch[87/100],loss:0.645228\n",
      "Epoch[88/100],loss:0.645227\n",
      "Epoch[89/100],loss:0.646924\n",
      "Epoch[90/100],loss:0.645205\n",
      "Epoch[91/100],loss:0.646948\n",
      "Epoch[92/100],loss:0.647792\n",
      "Epoch[93/100],loss:0.643516\n",
      "Epoch[94/100],loss:0.644352\n",
      "Epoch[95/100],loss:0.646916\n",
      "Epoch[96/100],loss:0.647785\n",
      "Epoch[97/100],loss:0.642663\n",
      "Epoch[98/100],loss:0.644356\n",
      "Epoch[99/100],loss:0.646069\n",
      "Epoch[100/100],loss:0.646920\n"
     ]
    },
    {
     "data": {
      "image/png": "[encoded data removed]",
      "text/plain": [
       "<Figure size 640x480 with 1 Axes>"
      ]
     },
     "metadata": {},
     "output_type": "display_data"
    }
   ],
   "source": [
    "import torch\n",
    "import matplotlib.pyplot as plt\n",
    "from torch.utils.data import Dataset, DataLoader\n",
    " \n",
    " \n",
    "# Prepare the dataset\n",
    "class DiabetesDateset(Dataset):\n",
    "    # 加载数据集\n",
    "    def __init__(self, filepath):\n",
    "        xy = np.loadtxt(filepath, delimiter=',', dtype=np.float32, encoding='utf-8')\n",
    "        self.len = xy.shape[0]  # shape[0]是矩阵的行数,shape[1]是矩阵的列数\n",
    "        self.x_data = torch.from_numpy(xy[:, :-1])\n",
    "        self.y_data = torch.from_numpy(xy[:, [-1]])\n",
    " \n",
    "    # 获取数据索引\n",
    "    def __getitem__(self, index):\n",
    "        return self.x_data[index], self.y_data[index]\n",
    " \n",
    "    # 获得数据总量\n",
    "    def __len__(self):\n",
    "        return self.len\n",
    " \n",
    " \n",
    "dataset = DiabetesDateset(r'D:\\Project\\基于神经网络的临近强降雨预测模型\\diabetes.csv')\n",
    "train_loader = DataLoader(dataset=dataset, batch_size=32, shuffle=True, num_workers=0, drop_last=True)  # num_workers为多线程\n",
    " \n",
    " \n",
    "# Define the model\n",
    "class FNNModel(torch.nn.Module):\n",
    "    def __init__(self):\n",
    "        super(FNNModel, self).__init__()\n",
    "        self.linear1 = torch.nn.Linear(8, 6)  # 输入数据的特征有8个,也就是有8个维度,随后将其降维到6维\n",
    "        self.linear2 = torch.nn.Linear(6, 4)  # 6维降到4维\n",
    "        self.linear3 = torch.nn.Linear(4, 2)  # 4维降到2维\n",
    "        self.linear4 = torch.nn.Linear(2, 1)  # 2w维降到1维\n",
    "        self.sigmoid = torch.nn.Sigmoid()  # 可以视其为网络的一层,而不是简单的函数使用\n",
    " \n",
    "    def forward(self, x):\n",
    "        x = self.sigmoid(self.linear1(x))\n",
    "        x = self.sigmoid(self.linear2(x))\n",
    "        x = self.sigmoid(self.linear3(x))\n",
    "        x = self.sigmoid(self.linear4(x))\n",
    "        return x\n",
    " \n",
    " \n",
    "model = FNNModel()\n",
    " \n",
    "# Define the criterion and optimizer\n",
    "criterion = torch.nn.BCELoss(reduction='mean')  # 返回损失的平均值\n",
    "optimizer = torch.optim.SGD(model.parameters(), lr=0.01)\n",
    " \n",
    "epoch_list = []\n",
    "loss_list = []\n",
    " \n",
    "# Training\n",
    "if __name__ == '__main__':\n",
    "    for epoch in range(100):\n",
    "        # i是一个epoch中第几次迭代,一共756条数据,每个mini_batch为32,所以一个epoch需要迭代23次\n",
    "        # data获取的数据为(x,y)\n",
    "        loss_one_epoch = 0\n",
    "        for i, data in enumerate(train_loader, 0):\n",
    "            inputs, labels = data\n",
    "            y_pred = model(inputs)\n",
    "            loss = criterion(y_pred, labels)\n",
    "            loss_one_epoch += loss.item()\n",
    " \n",
    "            optimizer.zero_grad()\n",
    "            loss.backward()\n",
    "            optimizer.step()\n",
    "        loss_list.append(loss_one_epoch / 23)\n",
    "        epoch_list.append(epoch)\n",
    "        print('Epoch[{}/{}],loss:{:.6f}'.format(epoch + 1, 100, loss_one_epoch / 23))\n",
    " \n",
    "    # Drawing\n",
    "    plt.plot(epoch_list, loss_list)\n",
    "    plt.xlabel('epoch')\n",
    "    plt.ylabel('loss')\n",
    "    plt.show()"
   ]
  },
  {
   "cell_type": "code",
   "execution_count": null,
   "metadata": {},
   "outputs": [],
   "source": []
  }
 ],
 "metadata": {
  "kernelspec": {
   "display_name": "Python 3",
   "language": "python",
   "name": "python3"
  },
  "language_info": {
   "codemirror_mode": {
    "name": "ipython",
    "version": 3
   },
   "file_extension": ".py",
   "mimetype": "text/x-python",
   "name": "python",
   "nbconvert_exporter": "python",
   "pygments_lexer": "ipython3",
   "version": "3.12.7"
  }
 },
 "nbformat": 4,
 "nbformat_minor": 2
}
